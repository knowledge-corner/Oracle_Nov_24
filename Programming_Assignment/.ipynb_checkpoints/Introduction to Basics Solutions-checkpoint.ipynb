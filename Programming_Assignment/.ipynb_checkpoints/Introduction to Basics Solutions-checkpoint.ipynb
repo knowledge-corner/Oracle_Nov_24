{
 "cells": [
  {
   "cell_type": "markdown",
   "metadata": {},
   "source": [
    "##### Ex. Write a program to prompt for a score between 0.0 and 1.0. If the score is out of range, print an error. If the score is between 0.0 and 1.0, print a grade using the following table:\n",
    "Score Grade\n",
    "- score >= 0.9 A\n",
    "- score >= 0.8 B\n",
    "- score >= 0.7 C\n",
    "- score >= 0.6 D\n",
    "- score < 0.6 F\n",
    "\n",
    "If the user enters a value out of range, print a suitable error message and exit. For the test, enter a score of 0.85."
   ]
  },
  {
   "cell_type": "code",
   "execution_count": 10,
   "metadata": {},
   "outputs": [
    {
     "name": "stdout",
     "output_type": "stream",
     "text": [
      "Enter score in range 0.0 to 1.0 - 0.85\n",
      "Grade B\n"
     ]
    }
   ],
   "source": [
    "score = float(input(\"Enter score in range 0.0 to 1.0 - \"))\n",
    "\n",
    "if score > 1.0 or score < 0.0 :\n",
    "    print(\"Score out of range\")\n",
    "elif score >= 0.9 :\n",
    "    print(\"Grade A\")\n",
    "elif score >= 0.8 :\n",
    "    print(\"Grade B\")\n",
    "elif score >= 0.7 :\n",
    "    print(\"Grade C\")\n",
    "elif score >= 0.6 :\n",
    "    print(\"Grade D\")\n",
    "else :\n",
    "    print(\"Grade F\")"
   ]
  },
  {
   "cell_type": "markdown",
   "metadata": {},
   "source": [
    "##### Ex. Write a Python program to find those numbers which are divisible by 7 and multiple of 5, between 1500 and 2700 (both included)."
   ]
  },
  {
   "cell_type": "code",
   "execution_count": 11,
   "metadata": {},
   "outputs": [
    {
     "name": "stdout",
     "output_type": "stream",
     "text": [
      "1505 1540 1575 1610 1645 1680 1715 1750 1785 1820 1855 1890 1925 1960 1995 2030 2065 2100 2135 2170 2205 2240 2275 2310 2345 2380 2415 2450 2485 2520 2555 2590 2625 2660 2695 "
     ]
    }
   ],
   "source": [
    "for i in range(1500, 2701):\n",
    "    if i % 35 == 0 :\n",
    "        print(i, end = \" \")"
   ]
  },
  {
   "cell_type": "markdown",
   "metadata": {},
   "source": [
    "##### Ex. Write a Python program to count the number of multiples of 3 between 10 - 100."
   ]
  },
  {
   "cell_type": "code",
   "execution_count": 12,
   "metadata": {},
   "outputs": [
    {
     "name": "stdout",
     "output_type": "stream",
     "text": [
      "Multiples of 3 in range of 10 to 100 are -  30\n"
     ]
    }
   ],
   "source": [
    "count = 0 \n",
    "\n",
    "for i in range(10, 101):\n",
    "    if i % 3 == 0 :\n",
    "        count += 1\n",
    "        \n",
    "print(\"Multiples of 3 in range of 10 to 100 are - \", count)"
   ]
  },
  {
   "cell_type": "markdown",
   "metadata": {},
   "source": [
    "##### Ex. Write a python program to check wheater the three sides of a triangle forms a pythagoriean triplet?"
   ]
  },
  {
   "cell_type": "code",
   "execution_count": null,
   "metadata": {},
   "outputs": [],
   "source": []
  },
  {
   "cell_type": "markdown",
   "metadata": {},
   "source": [
    "##### Ex. Write a Python program to test whether a passed letter is a vowel or not."
   ]
  },
  {
   "cell_type": "code",
   "execution_count": null,
   "metadata": {},
   "outputs": [],
   "source": [
    "letter = input(\"Enter a letter - \")\n",
    "\n",
    "if letter in \"aeiou\" :\n",
    "    print(letter, \"is a vowel\")\n",
    "else:\n",
    "    print(letter, \"is a consonant\")"
   ]
  },
  {
   "cell_type": "markdown",
   "metadata": {},
   "source": [
    "##### Ex. WAP to find factorial of a number entered by user"
   ]
  },
  {
   "cell_type": "code",
   "execution_count": 1,
   "metadata": {},
   "outputs": [
    {
     "name": "stdout",
     "output_type": "stream",
     "text": [
      "Enter a number5\n",
      "120\n"
     ]
    }
   ],
   "source": [
    "number = int(input(\"Enter a number\"))\n",
    "\n",
    "fact = 1\n",
    "\n",
    "for i in range(number, 1, -1):\n",
    "    fact *= i\n",
    "    \n",
    "print(fact)"
   ]
  },
  {
   "cell_type": "markdown",
   "metadata": {},
   "source": [
    "##### Ex. WAP to find number of digits in a number and then find sum of digits of a number"
   ]
  },
  {
   "cell_type": "code",
   "execution_count": 3,
   "metadata": {},
   "outputs": [
    {
     "name": "stdout",
     "output_type": "stream",
     "text": [
      "Enter a number12345\n",
      "Number of digits =  5\n",
      "Sum of digits =  15\n"
     ]
    }
   ],
   "source": [
    "number = int(input(\"Enter a number\"))\n",
    "\n",
    "count = 0\n",
    "total = 0\n",
    "\n",
    "while number != 0 :\n",
    "    \n",
    "    a = number % 10\n",
    "    total += a\n",
    "    \n",
    "    number //=10\n",
    "    \n",
    "    count+= 1\n",
    "    \n",
    "print(\"Number of digits = \", count)\n",
    "print(\"Sum of digits = \", total)"
   ]
  },
  {
   "cell_type": "markdown",
   "metadata": {},
   "source": [
    "##### Ex. Write a Python program to print the multiplication table of a number entered by user."
   ]
  },
  {
   "cell_type": "code",
   "execution_count": 4,
   "metadata": {},
   "outputs": [
    {
     "name": "stdout",
     "output_type": "stream",
     "text": [
      "Enter a number - 3\n",
      "3 x 1 = 3\n",
      "3 x 2 = 6\n",
      "3 x 3 = 9\n",
      "3 x 4 = 12\n",
      "3 x 5 = 15\n",
      "3 x 6 = 18\n",
      "3 x 7 = 21\n",
      "3 x 8 = 24\n",
      "3 x 9 = 27\n",
      "3 x 10 = 30\n"
     ]
    }
   ],
   "source": [
    "num = int(input(\"Enter a number - \"))\n",
    "\n",
    "for i in range(1, 11):\n",
    "    print(num, \"x\", i, \"=\", (num*i))"
   ]
  },
  {
   "cell_type": "markdown",
   "metadata": {},
   "source": [
    "##### Ex. Write a Python program to check if a number is a perfect square."
   ]
  },
  {
   "cell_type": "code",
   "execution_count": null,
   "metadata": {},
   "outputs": [],
   "source": [
    "import math as m\n",
    "\n",
    "num = int(input(\"Enter a number - \"))\n",
    "\n",
    "if int(m.sqrt(m)) ** 2 = num :\n",
    "    print(num, \"is a perfect square\")\n",
    "else:\n",
    "    print(num, \"is not a perfect square\")"
   ]
  },
  {
   "cell_type": "markdown",
   "metadata": {},
   "source": [
    "##### Ex. WAP print armstrong numbers between 100-999\n",
    " "
   ]
  },
  {
   "cell_type": "code",
   "execution_count": 6,
   "metadata": {},
   "outputs": [
    {
     "name": "stdout",
     "output_type": "stream",
     "text": [
      "153 370 371 407 "
     ]
    }
   ],
   "source": [
    "for number in range(100, 1000):\n",
    "\n",
    "    num = number\n",
    "    total = 0\n",
    "\n",
    "    while num != 0 :\n",
    "\n",
    "        a = num % 10\n",
    "        total += (a ** 3)\n",
    "\n",
    "        num //=10\n",
    "\n",
    "    if number == total :\n",
    "        print(number, end = \" \")"
   ]
  },
  {
   "cell_type": "markdown",
   "metadata": {},
   "source": [
    "##### Ex. WAP check if armstrong for any number of digits"
   ]
  },
  {
   "cell_type": "code",
   "execution_count": 10,
   "metadata": {},
   "outputs": [
    {
     "name": "stdout",
     "output_type": "stream",
     "text": [
      "Enter a number - 153\n",
      "153 is an armstrong number.\n"
     ]
    }
   ],
   "source": [
    "number = input(\"Enter a number - \")\n",
    "\n",
    "count = len(number)\n",
    "num = number = int(number)\n",
    "total = 0\n",
    "\n",
    "while num != 0 :\n",
    "\n",
    "    a = num % 10\n",
    "    total += (a ** count)\n",
    "\n",
    "    num //=10\n",
    "\n",
    "if number == total :\n",
    "    print(number, \"is an armstrong number.\")\n",
    "else:\n",
    "    print(number, \"is not an armstrong number.\")"
   ]
  },
  {
   "cell_type": "markdown",
   "metadata": {},
   "source": [
    "##### Ex. Sum of digits of n!\n",
    "n! means n × (n - 1) × ... × 3 × 2 × 1<br>\n",
    "For example, 10! = 10 × 9 × ... × 3 × 2 × 1 = 3628800, and the sum of the digits in the number 10! is 3 + 6 + 2 +8 + 8 + 0 + 0 = 27. <br>Find the sum of the digits in the number 100!"
   ]
  },
  {
   "cell_type": "code",
   "execution_count": 14,
   "metadata": {},
   "outputs": [
    {
     "name": "stdout",
     "output_type": "stream",
     "text": [
      "Enter a number - 10\n",
      "Sum of digits =  27\n"
     ]
    }
   ],
   "source": [
    "number = int(input(\"Enter a number - \"))\n",
    "\n",
    "fact = 1\n",
    "\n",
    "for i in range(number, 1, -1):\n",
    "    fact *= i\n",
    "    \n",
    "total = 0\n",
    "\n",
    "while fact != 0 :\n",
    "    \n",
    "    a = fact % 10\n",
    "    total += a\n",
    "    \n",
    "    fact //=10\n",
    "    \n",
    "\n",
    "print(\"Sum of digits = \", total)"
   ]
  },
  {
   "cell_type": "markdown",
   "metadata": {},
   "source": [
    "##### Ex. Sum square difference:\n",
    "WAP to find the difference between the sum of the squares of the first ten natural numbers and the square of the sum of the first ten natural numbers.\n"
   ]
  },
  {
   "cell_type": "code",
   "execution_count": 15,
   "metadata": {},
   "outputs": [
    {
     "name": "stdout",
     "output_type": "stream",
     "text": [
      "Enter a number - 10\n",
      "2640\n"
     ]
    }
   ],
   "source": [
    "n = int(input(\"Enter a number - \"))\n",
    "\n",
    "sumOfSquare = 0\n",
    "squareOfSum = 0\n",
    "for i in range(n+1):\n",
    "    squareOfSum += i  \n",
    "    sumOfSquare += i ** 2\n",
    "\n",
    "print(squareOfSum ** 2 - sumOfSquare)"
   ]
  },
  {
   "cell_type": "markdown",
   "metadata": {},
   "source": [
    "##### Ex. Smallest divisible no.\n",
    "Find the smallest number that can be divided by each of the numbers from 1 to 10 without any remainder."
   ]
  },
  {
   "cell_type": "code",
   "execution_count": 1,
   "metadata": {},
   "outputs": [
    {
     "name": "stdout",
     "output_type": "stream",
     "text": [
      "2520\n"
     ]
    }
   ],
   "source": [
    "num = 10\n",
    "while True :\n",
    "    for i in range(1, 11):\n",
    "        if num % i != 0 :\n",
    "            num += 1\n",
    "            break\n",
    "    else:\n",
    "        print(num)\n",
    "        break"
   ]
  },
  {
   "cell_type": "markdown",
   "metadata": {},
   "source": [
    "##### Ex. Largest Prime Factor:\n",
    "The prime factors of 13195 are 5, 7, 13 and 29. What is the largest prime factor of the number 600851475143"
   ]
  },
  {
   "cell_type": "code",
   "execution_count": 5,
   "metadata": {},
   "outputs": [
    {
     "name": "stdout",
     "output_type": "stream",
     "text": [
      "6857\n"
     ]
    }
   ],
   "source": [
    "p = 600851475143\n",
    "\n",
    "n = 2 \n",
    "\n",
    "while n * n < p:\n",
    "\n",
    "    while p%n == 0:\n",
    "\n",
    "        p = p // n\n",
    "\n",
    "    n = n + 1\n",
    "\n",
    "print(p)"
   ]
  },
  {
   "cell_type": "markdown",
   "metadata": {},
   "source": [
    "##### Ex. Multiples of 3 and 5:\n",
    "If we list all the natural numbers below 10 that are multiples of 3 or 5, we get 3, 5, 6 and 9. The sum of these\n",
    "multiples is 23. Find the sum of all the multiples of 3 or 5 below 1000."
   ]
  },
  {
   "cell_type": "code",
   "execution_count": 8,
   "metadata": {},
   "outputs": [
    {
     "name": "stdout",
     "output_type": "stream",
     "text": [
      "233168\n"
     ]
    }
   ],
   "source": [
    "n = 0\n",
    "for i in range(1,1000):\n",
    "    if not i % 5 or not i % 3:\n",
    "        n = n + i\n",
    "print(n)\n"
   ]
  },
  {
   "cell_type": "markdown",
   "metadata": {},
   "source": [
    "##### Ex. Fibonacci series:\n",
    "Print 10th even number in Fibonacci series"
   ]
  },
  {
   "cell_type": "code",
   "execution_count": 12,
   "metadata": {},
   "outputs": [
    {
     "name": "stdout",
     "output_type": "stream",
     "text": [
      "196418\n"
     ]
    }
   ],
   "source": [
    "fibo = [0, 1]\n",
    "count = 1\n",
    "\n",
    "while count != 10 :\n",
    "    \n",
    "    num = fibo[-1] + fibo[-2]\n",
    "    \n",
    "    count += 0 if num % 2 else 1\n",
    "    \n",
    "    fibo.append(num)\n",
    "\n",
    "print(num)"
   ]
  }
 ],
 "metadata": {
  "kernelspec": {
   "display_name": "Python 3",
   "language": "python",
   "name": "python3"
  },
  "language_info": {
   "codemirror_mode": {
    "name": "ipython",
    "version": 3
   },
   "file_extension": ".py",
   "mimetype": "text/x-python",
   "name": "python",
   "nbconvert_exporter": "python",
   "pygments_lexer": "ipython3",
   "version": "3.9.1"
  }
 },
 "nbformat": 4,
 "nbformat_minor": 2
}
